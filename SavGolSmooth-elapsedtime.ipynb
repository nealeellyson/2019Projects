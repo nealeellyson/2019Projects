{
 "cells": [
  {
   "cell_type": "code",
   "execution_count": 129,
   "metadata": {},
   "outputs": [],
   "source": [
    "## Plotting Savgol smoothed, first, second and extrema using the second (newest) time step iteration where tstep = StepProcessTime (or ElapsedProcessTime, depending on the tool)\n",
    "## Using 22 STI, step 6, wavelength C516\n",
    "import pandas as pd\n",
    "import glob\n",
    "import os\n",
    "import numpy as np\n",
    "import dask.dataframe as dd\n",
    "from datetime import datetime,timedelta\n",
    "import time\n",
    "import matplotlib.pyplot as plt\n",
    "from scipy.signal import find_peaks,savgol_filter\n",
    "from scipy import interpolate, stats\n",
    "import seaborn as sns\n",
    "from tqdm import tqdm                       # For progress bar, yay!\n"
   ]
  },
  {
   "cell_type": "code",
   "execution_count": 130,
   "metadata": {},
   "outputs": [
    {
     "name": "stdout",
     "output_type": "stream",
     "text": [
      "Reading Metro Data\n",
      "\tmetro\\22STIINT.txt Data Finished\n"
     ]
    }
   ],
   "source": [
    "# Retrieving Metro Data from .txt files\n",
    "mfile = []\n",
    "metro = {}\n",
    "metro_cols = ['waferscribe','ext_mv']\n",
    "print('Reading Metro Data')\n",
    "for filename in glob.glob(\"metro/22*\"): # GH v 22 for STII\n",
    "    metro[filename[6:-4]] = pd.read_csv(filename,usecols=metro_cols)[metro_cols] # Using filenames w/out path and file type as dictionary keys\n",
    "    mfile.append(filename[6:-4])  # Create index of filename strings\n",
    "    print(f'\\t{filename} Data Finished')\n",
    "    met = pd.concat(metro.values(),ignore_index=True)\n",
    "\n",
    "# Trim down 'met' to relevant ext_mv values\n",
    "paramVal = met['ext_mv']\n",
    "paramBool = met[paramVal%1==0]\n",
    "dropParam = paramBool.index\n",
    "met.drop(dropParam, inplace=True)\n",
    "MetroWafers = met.waferscribe\n"
   ]
  },
  {
   "cell_type": "code",
   "execution_count": 137,
   "metadata": {},
   "outputs": [
    {
     "name": "stdout",
     "output_type": "stream",
     "text": [
      "Reading OES Data\n",
      "\toes\\5030-22 STI INTEGRATED DRY ETCH_2.csv Data Finished\n",
      "\toes\\5030-22 STI INTEGRATED DRY ETCH_3.csv Data Finished\n",
      "\toes\\5030-22 STI INTEGRATED DRY ETCH_4.csv Data Finished\n"
     ]
    }
   ],
   "source": [
    "# Retrieving OES Data from the .csv files, takes MUCH longer, retrieving specfic columns helps\n",
    "ofile = []\n",
    "oes = {}\n",
    "data = {}\n",
    "oes_cols = ['WAFER_SCRIBE','StepProcessTime','StepID', 'OES_CO483', 'OES_C516', 'OES_CN387','OES_Si251','OES_Si288'] # For STI INTEGRATED \n",
    "#oes_cols = ['LOT_ID','WAFER_SCRIBE','StepProcessTime','StepID', 'OES_BCl272', 'OES_C516', 'OES_CN387', 'OES_CO483', 'OES_F703', 'OES_H656', 'OES_O777', 'OES_OH309','OES_Si251','OES_Si288'] # For STI INTEGRATED\n",
    "#oes_cols = ['WAFER_SCRIBE','ProcessElapsedTime','StepID', 'OESIB1', 'OESIB2', 'OESIB3', 'OESIB4', 'OESIB5', 'OESIB6', 'OESIB7', 'OESIB8'] # For GH CONTACT \n",
    "print('Reading OES Data')\n",
    "for filename in glob.glob(\"oes/5030-22 STI INTEGRATED DRY ETCH_*.csv\"): #5030-22 STI INTEGRATED DRY ETCH_1 #3500-GH CONTACT OXIDE DRY ETCH_10.csv\n",
    "    oes[filename[4:-4]] = pd.read_csv(filename, usecols=oes_cols)[oes_cols] # ,parse_dates=['RunStartTime', 'TimeStamp'],infer_datetime_format=True\n",
    "    ofile.append(filename[4:-4]) # Create index of filename strings\n",
    "    data = pd.concat(oes.values(),ignore_index=True) # Struggles with STI INTEGRATED data # pd.concat(oes.values(),ignore_index=True)\n",
    "    print(f'\\t{filename} Data Finished')\n",
    "\n",
    "# Trim down 'data' to only metro-matching wafers by removing them\n",
    "UniqueWafers = data.WAFER_SCRIBE.unique()\n",
    "nonWafers = np.isin(UniqueWafers,list(MetroWafers),invert=True)\n",
    "i = np.where(nonWafers)[0]\n",
    "WaferScribe = []\n",
    "WaferScribe = (UniqueWafers[i])\n"
   ]
  },
  {
   "cell_type": "code",
   "execution_count": 138,
   "metadata": {},
   "outputs": [
    {
     "name": "stderr",
     "output_type": "stream",
     "text": [
      "\r",
      "  0%|                                                                                          | 0/575 [00:00<?, ?it/s]"
     ]
    },
    {
     "name": "stdout",
     "output_type": "stream",
     "text": [
      "Trimming Down Data to Only Metro-Matching Wafers\n"
     ]
    },
    {
     "name": "stderr",
     "output_type": "stream",
     "text": [
      "100%|████████████████████████████████████████████████████████████████████████████████| 575/575 [02:29<00:00,  3.85it/s]"
     ]
    },
    {
     "name": "stdout",
     "output_type": "stream",
     "text": [
      "\tDone!\n"
     ]
    },
    {
     "name": "stderr",
     "output_type": "stream",
     "text": [
      "\n"
     ]
    }
   ],
   "source": [
    "print('Trimming Down Data to Only Metro-Matching Wafers')\n",
    "indexNames = []\n",
    "for x in tqdm(WaferScribe):\n",
    "    WaferScribeData = data['WAFER_SCRIBE']\n",
    "    dataindex = data[WaferScribeData == x]\n",
    "    indexNames = dataindex.index\n",
    "    data.drop(indexNames , inplace=True)\n",
    "print('\\tDone!') \n",
    "UniqueWafers = data.WAFER_SCRIBE.unique()\n"
   ]
  },
  {
   "cell_type": "code",
   "execution_count": 140,
   "metadata": {},
   "outputs": [
    {
     "name": "stderr",
     "output_type": "stream",
     "text": [
      " 14%|███████████▌                                                                       | 7/50 [00:00<00:00, 64.90it/s]"
     ]
    },
    {
     "name": "stdout",
     "output_type": "stream",
     "text": [
      "Creating Wafer Data Set & Processing Dates into Time in Seconds\n"
     ]
    },
    {
     "name": "stderr",
     "output_type": "stream",
     "text": [
      "100%|██████████████████████████████████████████████████████████████████████████████████| 50/50 [00:00<00:00, 66.60it/s]"
     ]
    },
    {
     "name": "stdout",
     "output_type": "stream",
     "text": [
      "\tDone!\n"
     ]
    },
    {
     "name": "stderr",
     "output_type": "stream",
     "text": [
      "\n"
     ]
    }
   ],
   "source": [
    "# Turning Data into Wafer for easy keys and converting dates into \n",
    "t_sec = {}\n",
    "Wafer = {}\n",
    "DataFrameDict = {elem : pd.DataFrame for elem in UniqueWafers}\n",
    "print('Creating Wafer Data Set & Processing Dates into Time in Seconds')\n",
    "for i,key in enumerate(tqdm(DataFrameDict.keys())):\n",
    "    Wafer[i] = pd.DataFrame.from_dict(data[:][data.WAFER_SCRIBE == key]) # Create DataFrame for specific wafers\n",
    "    StepTime = [col for col in Wafer[i].columns if 'Process' in col] #Create list of all intensity columns w/rt element\n",
    "    t_sec[i] = Wafer[i][StepTime].dropna() \n",
    "print('\\tDone!')\n",
    "OES_col = [col for col in Wafer[i].columns if 'OES' in col] #Create list of all intensity columns w/rt element\n",
    "step = 6\n",
    "wafer_param_time = met[['waferscribe','ext_mv']]\n",
    "etch_time = []\n",
    "peakTime = []\n",
    "waferScribe = []\n"
   ]
  },
  {
   "cell_type": "code",
   "execution_count": 141,
   "metadata": {},
   "outputs": [
    {
     "data": {
      "application/vnd.jupyter.widget-view+json": {
       "model_id": "75903c0db344443ab680eaf631d1aa9d",
       "version_major": 2,
       "version_minor": 0
      },
      "text/plain": [
       "Canvas(toolbar=Toolbar(toolitems=[('Home', 'Reset original view', 'home', 'home'), ('Back', 'Back to previous …"
      ]
     },
     "metadata": {},
     "output_type": "display_data"
    },
    {
     "name": "stdout",
     "output_type": "stream",
     "text": [
      "Inside if statement 188 188\n",
      "Inside if statement 189 189\n",
      "Inside if statement 189 189\n"
     ]
    },
    {
     "name": "stderr",
     "output_type": "stream",
     "text": [
      "C:\\Users\\nellyson\\AppData\\Local\\Programs\\Python\\Python37-32\\lib\\site-packages\\pandas\\core\\frame.py:4102: SettingWithCopyWarning: \n",
      "A value is trying to be set on a copy of a slice from a DataFrame\n",
      "\n",
      "See the caveats in the documentation: http://pandas.pydata.org/pandas-docs/stable/user_guide/indexing.html#returning-a-view-versus-a-copy\n",
      "  errors=errors,\n"
     ]
    }
   ],
   "source": [
    "%matplotlib widget\n",
    "# Only temporarily kept in here\n",
    "for x in range (len(UniqueWafers)): #len(UniqueWafers)): #5): #\n",
    "    #fig = plt.figure()\n",
    "    Tsteps = t_sec[x].loc[Wafer[x]['StepID']==step]\n",
    "    x_int = np.linspace(Tsteps.iloc[0], Tsteps.iloc[-1], 100)\n",
    "    #plt.axvspan(Tsteps.iloc[0], Tsteps.iloc[-1], alpha=0.25) #, ymin=0, ymax=1, **kwargs)\n",
    "    plt.title(f\"Wafer Scribe: {UniqueWafers[x]}, {x}/{len(UniqueWafers)}\")\n",
    "    for y in range(2,3): #len(OES_col) \n",
    "        WinLen = 15\n",
    "        POrder = 5\n",
    "        Intensity = Wafer[x][OES_col[y]].loc[Wafer[x]['StepID']==step]\n",
    "        if Tsteps.values[-1] == 0.:                                 # Is the final time step zero for some weird reason? \n",
    "            Tsteps.drop(Tsteps.tail(1).index,inplace=True)          # Let's get rid of it then, it's messing up our data\n",
    "            Intensity.drop(Intensity.tail(len(Intensity)-len(Tsteps)).index,inplace=True)    # Keep consistent for plotting purposes\n",
    "            print(\"Inside if statement\",len(Tsteps),len(Intensity))\n",
    "        if len(Tsteps)!= len(Intensity):\n",
    "            Intensity.drop(Intensity.tail(len(Intensity)-len(Tsteps)).index,inplace=True)\n",
    "            print(\"problem if statement\",len(Tsteps),len(Intensity))\n",
    "        #plt.plot(Tsteps,Intensity, label=f\"{OES_col[y]}\") #,color=\"tab:orange\")                     # OG Data\n",
    "        SGsmooth = savgol_filter(Intensity,window_length=WinLen, polyorder = POrder, deriv = 0)     \n",
    "        plt.plot(Tsteps,SGsmooth, label=f\"{UniqueWafers[x]}\")#,color=\"tab:blue\")                      # Smoothed Data     f\"Smooth {OES_col[y]}\"\n",
    "        first = savgol_filter(Intensity,window_length=WinLen, polyorder = POrder, deriv = 1)\n",
    "        #plt.plot(Tsteps,first, label=f\"1st {OES_col[y]}\",linestyle = '--',color=\"tab:red\")          # First Derivative Plot\n",
    "        second = savgol_filter(Intensity,window_length=WinLen, polyorder = POrder, deriv = 2)\n",
    "        #plt.plot(Tsteps,second, label=f\"2nd {OES_col[y]}\",linestyle = ':',color=\"tab:green\")        # Second Derivative Plot\n",
    "        \n",
    "        #peaks, _ = find_peaks(second, height=5e2) #, distance=150)\n",
    "        #peaks = peaks[np.concatenate(Tsteps.values[peaks], axis=None)>4]\n",
    "        #peaks = peaks[np.concatenate(Tsteps.values[peaks], axis=None)<8]\n",
    "        #plt.plot(Tsteps[peaks], first[peaks], \"x\",color=\"tab:purple\", label = \"Peaks\")              # First Derivative Peaks\n",
    "        #plt.plot(Tsteps[peaks], second[peaks], \"x\",color=\"tab:purple\", label = \"Peaks\")             # Second Derivative Peaks\n",
    "        #plt.plot(Tsteps.values[peaks], SGsmooth[peaks], \"x\",color=\"tab:purple\") #, label = \"Peaks\")              # Smoothed Peaks\n",
    "        \n",
    "#       print(f\"\\tWafer Scribe: {UniqueWafers[x]}, {x}/{len(UniqueWafers)}\")\n",
    "#       print(\"Tsteps.values[peaks]:\\t\",Tsteps.values[peaks])\n",
    "#       print(\"Intensity.values[peaks]:\\t\",Intensity.values[peaks])\n",
    "#       print(\"np.concatenate(Tsteps.values[peaks[0]], axis=None)-np.concatenate(Tsteps.values[0], axis=None):\\t\",np.concatenate(Tsteps.values[peaks[0]], axis=None)-np.concatenate(Tsteps.values[0], axis=None))\n",
    "\n",
    "        #print(x,len(peaks))\n",
    "        #plt.xlim(4.2,5)\n",
    "        #plt.ylim(8e4,15e4)\n",
    "        #waferScrbe.append(UniqueWafers[x])\n",
    "        try:\n",
    "            peakTime.append(np.concatenate(Tsteps.values[peaks[0]], axis=None)) # -np.concatenate(Tsteps.values[0], axis=None) # try/except -- taking in the first value within x-int[peaks]: x_int[-1]-x_int[peaks[0]]\n",
    "            waferScribe.append(UniqueWafers[x])\n",
    "        except IndexError:\n",
    "            pass\n",
    "        \n",
    "    plt.ylabel(\"Intensity\")\n",
    "    plt.xlabel(\"Time in seconds\")\n",
    "    #plt.legend()\n",
    "plt.show()"
   ]
  },
  {
   "cell_type": "code",
   "execution_count": 142,
   "metadata": {},
   "outputs": [
    {
     "ename": "ValueError",
     "evalue": "Inputs must not be empty.",
     "output_type": "error",
     "traceback": [
      "\u001b[1;31m---------------------------------------------------------------------------\u001b[0m",
      "\u001b[1;31mValueError\u001b[0m                                Traceback (most recent call last)",
      "\u001b[1;32m<ipython-input-142-25bdbe5ab463>\u001b[0m in \u001b[0;36m<module>\u001b[1;34m\u001b[0m\n\u001b[0;32m      6\u001b[0m \u001b[1;31m#print('Param',(wafer_param_time))\u001b[0m\u001b[1;33m\u001b[0m\u001b[1;33m\u001b[0m\u001b[1;33m\u001b[0m\u001b[0m\n\u001b[0;32m      7\u001b[0m \u001b[0mresult\u001b[0m \u001b[1;33m=\u001b[0m \u001b[0mpd\u001b[0m\u001b[1;33m.\u001b[0m\u001b[0mmerge\u001b[0m\u001b[1;33m(\u001b[0m\u001b[0metch_time\u001b[0m\u001b[1;33m,\u001b[0m \u001b[0mwafer_param_time\u001b[0m\u001b[1;33m,\u001b[0m \u001b[0mon\u001b[0m \u001b[1;33m=\u001b[0m \u001b[1;33m[\u001b[0m\u001b[1;34m'waferscribe'\u001b[0m\u001b[1;33m]\u001b[0m\u001b[1;33m)\u001b[0m\u001b[1;33m\u001b[0m\u001b[1;33m\u001b[0m\u001b[0m\n\u001b[1;32m----> 8\u001b[1;33m \u001b[0mslope\u001b[0m\u001b[1;33m,\u001b[0m \u001b[0mintercept\u001b[0m\u001b[1;33m,\u001b[0m \u001b[0mr_value\u001b[0m\u001b[1;33m,\u001b[0m \u001b[0mp_value\u001b[0m\u001b[1;33m,\u001b[0m \u001b[0mstd_err\u001b[0m \u001b[1;33m=\u001b[0m \u001b[0mstats\u001b[0m\u001b[1;33m.\u001b[0m\u001b[0mlinregress\u001b[0m\u001b[1;33m(\u001b[0m\u001b[0mx\u001b[0m\u001b[1;33m=\u001b[0m\u001b[0mresult\u001b[0m\u001b[1;33m.\u001b[0m\u001b[0mpeaks\u001b[0m\u001b[1;33m.\u001b[0m\u001b[0mastype\u001b[0m\u001b[1;33m(\u001b[0m\u001b[1;34m'float'\u001b[0m\u001b[1;33m)\u001b[0m\u001b[1;33m,\u001b[0m \u001b[0my\u001b[0m\u001b[1;33m=\u001b[0m\u001b[0mresult\u001b[0m\u001b[1;33m.\u001b[0m\u001b[0mext_mv\u001b[0m\u001b[1;33m)\u001b[0m\u001b[1;33m\u001b[0m\u001b[1;33m\u001b[0m\u001b[0m\n\u001b[0m\u001b[0;32m      9\u001b[0m \u001b[0mprint\u001b[0m\u001b[1;33m(\u001b[0m\u001b[1;34mf\"R-squared: {r_value**2}\"\u001b[0m\u001b[1;33m)\u001b[0m\u001b[1;33m\u001b[0m\u001b[1;33m\u001b[0m\u001b[0m\n\u001b[0;32m     10\u001b[0m \u001b[0mfig\u001b[0m \u001b[1;33m=\u001b[0m \u001b[0mplt\u001b[0m\u001b[1;33m.\u001b[0m\u001b[0mfigure\u001b[0m\u001b[1;33m(\u001b[0m\u001b[1;33m)\u001b[0m\u001b[1;33m\u001b[0m\u001b[1;33m\u001b[0m\u001b[0m\n",
      "\u001b[1;32m~\\AppData\\Local\\Programs\\Python\\Python37-32\\lib\\site-packages\\scipy\\stats\\_stats_mstats_common.py\u001b[0m in \u001b[0;36mlinregress\u001b[1;34m(x, y)\u001b[0m\n\u001b[0;32m    107\u001b[0m \u001b[1;33m\u001b[0m\u001b[0m\n\u001b[0;32m    108\u001b[0m     \u001b[1;32mif\u001b[0m \u001b[0mx\u001b[0m\u001b[1;33m.\u001b[0m\u001b[0msize\u001b[0m \u001b[1;33m==\u001b[0m \u001b[1;36m0\u001b[0m \u001b[1;32mor\u001b[0m \u001b[0my\u001b[0m\u001b[1;33m.\u001b[0m\u001b[0msize\u001b[0m \u001b[1;33m==\u001b[0m \u001b[1;36m0\u001b[0m\u001b[1;33m:\u001b[0m\u001b[1;33m\u001b[0m\u001b[1;33m\u001b[0m\u001b[0m\n\u001b[1;32m--> 109\u001b[1;33m         \u001b[1;32mraise\u001b[0m \u001b[0mValueError\u001b[0m\u001b[1;33m(\u001b[0m\u001b[1;34m\"Inputs must not be empty.\"\u001b[0m\u001b[1;33m)\u001b[0m\u001b[1;33m\u001b[0m\u001b[1;33m\u001b[0m\u001b[0m\n\u001b[0m\u001b[0;32m    110\u001b[0m \u001b[1;33m\u001b[0m\u001b[0m\n\u001b[0;32m    111\u001b[0m     \u001b[0mn\u001b[0m \u001b[1;33m=\u001b[0m \u001b[0mlen\u001b[0m\u001b[1;33m(\u001b[0m\u001b[0mx\u001b[0m\u001b[1;33m)\u001b[0m\u001b[1;33m\u001b[0m\u001b[1;33m\u001b[0m\u001b[0m\n",
      "\u001b[1;31mValueError\u001b[0m: Inputs must not be empty."
     ]
    }
   ],
   "source": [
    "etch_time = pd.DataFrame({'waferscribe':waferScribe,'peaks':peakTime})\n",
    "#etch_time.drop(etch_time.loc[etch_time['peaks'] < 1,'peaks'].index, inplace=True)      # Is this doing anything? I don't think so...\n",
    "#etch_time.drop(etch_time.loc[etch_time['peaks'] > 30,'peaks'].index, inplace=True)\n",
    "\n",
    "#print('Etch',(etch_time))\n",
    "#print('Param',(wafer_param_time))\n",
    "result = pd.merge(etch_time, wafer_param_time, on = ['waferscribe'])\n",
    "slope, intercept, r_value, p_value, std_err = stats.linregress(x=result.peaks.astype('float'), y=result.ext_mv)\n",
    "print(f\"R-squared: {r_value**2}\")\n",
    "fig = plt.figure()\n",
    "sns.regplot(x=result.peaks.astype('float'), y=result.ext_mv)\n",
    "#plt.scatter(result.peaks, result.ext_mv)\n",
    "plt.plot(result.peaks, result.peaks*slope+intercept, label = f\"R-squared: {r_value**2}\")\n",
    "plt.title(\"Linear Regression Attempt\")\n",
    "plt.ylabel(\"Metrology Parameter\")\n",
    "plt.xlabel(\"Etch Time, in seconds\")\n",
    "plt.legend()\n",
    "plt.show()"
   ]
  },
  {
   "cell_type": "code",
   "execution_count": 143,
   "metadata": {},
   "outputs": [],
   "source": [
    "for x in range (len(UniqueWafers)):\n",
    "    OES_CO483 = Wafer[x][OES_col[0]].loc[Wafer[x]['StepID']==step]\n",
    "    OES_C516 = Wafer[x][OES_col[1]].loc[Wafer[x]['StepID']==step]\n",
    "    OES_CN387 = Wafer[x][OES_col[2]].loc[Wafer[x]['StepID']==step]\n",
    "    OES_Si251 = Wafer[x][OES_col[3]].loc[Wafer[x]['StepID']==step]\n",
    "    OES_Si288 = Wafer[x][OES_col[4]].loc[Wafer[x]['StepID']==step]"
   ]
  },
  {
   "cell_type": "code",
   "execution_count": 144,
   "metadata": {},
   "outputs": [
    {
     "name": "stdout",
     "output_type": "stream",
     "text": [
      "OES_CO483 with OES_CO483: 0.9999999999999999\n",
      "OES_CO483 with OES_C516: 0.16769389871853307\n",
      "OES_CO483 with OES_CN387: 0.8533068699986766\n",
      "OES_CO483 with OES_Si251: 0.9179935547279509\n",
      "OES_CO483 with OES_Si288: 0.8135679616793351\n",
      "\n",
      "\n",
      "OES_C516 with OES_C516: 1.0\n",
      "OES_C516 with OES_CN387: -0.08685457866263029\n",
      "OES_C516 with OES_Si251: -0.13852607833959454\n",
      "OES_C516 with OES_Si288: 0.34642536925694006\n",
      "\n",
      "\n",
      "OES_CN387 with OES_CN387: 1.0\n",
      "OES_CN387 with OES_Si251: 0.9457549650977043\n",
      "OES_CN387 with OES_Si288: 0.6632844113320142\n",
      "\n",
      "\n",
      "OES_Si251 with OES_Si251: 1.0\n",
      "OES_Si251 with OES_Si288: 0.644521215142845\n",
      "\n",
      "\n",
      "OES_Si288 with OES_Si288: 1.0\n"
     ]
    }
   ],
   "source": [
    "print(\"OES_CO483 with OES_CO483:\",OES_CO483.corr(OES_CO483))\n",
    "print(\"OES_CO483 with OES_C516:\",OES_CO483.corr(OES_C516))\n",
    "print(\"OES_CO483 with OES_CN387:\",OES_CO483.corr(OES_CN387))\n",
    "print(\"OES_CO483 with OES_Si251:\",OES_CO483.corr(OES_Si251))\n",
    "print(\"OES_CO483 with OES_Si288:\",OES_CO483.corr(OES_Si288))\n",
    "print(\"\\n\")\n",
    "print(\"OES_C516 with OES_C516:\",OES_C516.corr(OES_C516))\n",
    "print(\"OES_C516 with OES_CN387:\",OES_C516.corr(OES_CN387))\n",
    "print(\"OES_C516 with OES_Si251:\",OES_C516.corr(OES_Si251))\n",
    "print(\"OES_C516 with OES_Si288:\",OES_C516.corr(OES_Si288))\n",
    "print(\"\\n\")\n",
    "print(\"OES_CN387 with OES_CN387:\",OES_CN387.corr(OES_CN387))\n",
    "print(\"OES_CN387 with OES_Si251:\",OES_CN387.corr(OES_Si251))\n",
    "print(\"OES_CN387 with OES_Si288:\",OES_CN387.corr(OES_Si288))\n",
    "print(\"\\n\")\n",
    "print(\"OES_Si251 with OES_Si251:\",OES_Si251.corr(OES_Si251))\n",
    "print(\"OES_Si251 with OES_Si288:\",OES_Si251.corr(OES_Si288))\n",
    "print(\"\\n\")\n",
    "print(\"OES_Si288 with OES_Si288:\",OES_Si288.corr(OES_Si288))"
   ]
  },
  {
   "cell_type": "code",
   "execution_count": 145,
   "metadata": {},
   "outputs": [
    {
     "data": {
      "text/html": [
       "<div>\n",
       "<style scoped>\n",
       "    .dataframe tbody tr th:only-of-type {\n",
       "        vertical-align: middle;\n",
       "    }\n",
       "\n",
       "    .dataframe tbody tr th {\n",
       "        vertical-align: top;\n",
       "    }\n",
       "\n",
       "    .dataframe thead th {\n",
       "        text-align: right;\n",
       "    }\n",
       "</style>\n",
       "<table border=\"1\" class=\"dataframe\">\n",
       "  <thead>\n",
       "    <tr style=\"text-align: right;\">\n",
       "      <th></th>\n",
       "      <th>OES_CO483</th>\n",
       "      <th>OES_C516</th>\n",
       "      <th>OES_CN387</th>\n",
       "      <th>OES_Si251</th>\n",
       "      <th>OES_Si288</th>\n",
       "    </tr>\n",
       "  </thead>\n",
       "  <tbody>\n",
       "    <tr>\n",
       "      <td>2460506</td>\n",
       "      <td>-1.0</td>\n",
       "      <td>-1.0</td>\n",
       "      <td>-1.0</td>\n",
       "      <td>-1.0</td>\n",
       "      <td>-1.0</td>\n",
       "    </tr>\n",
       "    <tr>\n",
       "      <td>2460507</td>\n",
       "      <td>-1.0</td>\n",
       "      <td>-1.0</td>\n",
       "      <td>-1.0</td>\n",
       "      <td>-1.0</td>\n",
       "      <td>-1.0</td>\n",
       "    </tr>\n",
       "    <tr>\n",
       "      <td>2460508</td>\n",
       "      <td>-1.0</td>\n",
       "      <td>-1.0</td>\n",
       "      <td>-1.0</td>\n",
       "      <td>-1.0</td>\n",
       "      <td>-1.0</td>\n",
       "    </tr>\n",
       "    <tr>\n",
       "      <td>2460509</td>\n",
       "      <td>-1.0</td>\n",
       "      <td>-1.0</td>\n",
       "      <td>-1.0</td>\n",
       "      <td>-1.0</td>\n",
       "      <td>-1.0</td>\n",
       "    </tr>\n",
       "    <tr>\n",
       "      <td>2460510</td>\n",
       "      <td>-1.0</td>\n",
       "      <td>-1.0</td>\n",
       "      <td>-1.0</td>\n",
       "      <td>-1.0</td>\n",
       "      <td>-1.0</td>\n",
       "    </tr>\n",
       "    <tr>\n",
       "      <td>...</td>\n",
       "      <td>...</td>\n",
       "      <td>...</td>\n",
       "      <td>...</td>\n",
       "      <td>...</td>\n",
       "      <td>...</td>\n",
       "    </tr>\n",
       "    <tr>\n",
       "      <td>2460708</td>\n",
       "      <td>117133.0</td>\n",
       "      <td>96700.0</td>\n",
       "      <td>290033.0</td>\n",
       "      <td>412400.0</td>\n",
       "      <td>149580.0</td>\n",
       "    </tr>\n",
       "    <tr>\n",
       "      <td>2460710</td>\n",
       "      <td>116267.0</td>\n",
       "      <td>95880.0</td>\n",
       "      <td>289133.0</td>\n",
       "      <td>412600.0</td>\n",
       "      <td>148940.0</td>\n",
       "    </tr>\n",
       "    <tr>\n",
       "      <td>2460711</td>\n",
       "      <td>116767.0</td>\n",
       "      <td>96180.0</td>\n",
       "      <td>289967.0</td>\n",
       "      <td>411740.0</td>\n",
       "      <td>149740.0</td>\n",
       "    </tr>\n",
       "    <tr>\n",
       "      <td>2460712</td>\n",
       "      <td>106733.0</td>\n",
       "      <td>113420.0</td>\n",
       "      <td>219167.0</td>\n",
       "      <td>336900.0</td>\n",
       "      <td>126820.0</td>\n",
       "    </tr>\n",
       "    <tr>\n",
       "      <td>2460713</td>\n",
       "      <td>107033.0</td>\n",
       "      <td>132680.0</td>\n",
       "      <td>204700.0</td>\n",
       "      <td>328660.0</td>\n",
       "      <td>128560.0</td>\n",
       "    </tr>\n",
       "  </tbody>\n",
       "</table>\n",
       "<p>189 rows × 5 columns</p>\n",
       "</div>"
      ],
      "text/plain": [
       "         OES_CO483  OES_C516  OES_CN387  OES_Si251  OES_Si288\n",
       "2460506       -1.0      -1.0       -1.0       -1.0       -1.0\n",
       "2460507       -1.0      -1.0       -1.0       -1.0       -1.0\n",
       "2460508       -1.0      -1.0       -1.0       -1.0       -1.0\n",
       "2460509       -1.0      -1.0       -1.0       -1.0       -1.0\n",
       "2460510       -1.0      -1.0       -1.0       -1.0       -1.0\n",
       "...            ...       ...        ...        ...        ...\n",
       "2460708   117133.0   96700.0   290033.0   412400.0   149580.0\n",
       "2460710   116267.0   95880.0   289133.0   412600.0   148940.0\n",
       "2460711   116767.0   96180.0   289967.0   411740.0   149740.0\n",
       "2460712   106733.0  113420.0   219167.0   336900.0   126820.0\n",
       "2460713   107033.0  132680.0   204700.0   328660.0   128560.0\n",
       "\n",
       "[189 rows x 5 columns]"
      ]
     },
     "execution_count": 145,
     "metadata": {},
     "output_type": "execute_result"
    }
   ],
   "source": [
    "Wafer[x][OES_col[:]].loc[Wafer[x]['StepID']==step]"
   ]
  },
  {
   "cell_type": "code",
   "execution_count": 146,
   "metadata": {},
   "outputs": [
    {
     "data": {
      "text/plain": [
       "RandomState(MT19937) at 0x17C188A0"
      ]
     },
     "execution_count": 146,
     "metadata": {},
     "output_type": "execute_result"
    }
   ],
   "source": [
    "np.random.RandomState(33)"
   ]
  },
  {
   "cell_type": "code",
   "execution_count": 147,
   "metadata": {},
   "outputs": [
    {
     "data": {
      "application/vnd.jupyter.widget-view+json": {
       "model_id": "49557f7c4eb54bb6bdf8aa0b7aecdcad",
       "version_major": 2,
       "version_minor": 0
      },
      "text/plain": [
       "Canvas(toolbar=Toolbar(toolitems=[('Home', 'Reset original view', 'home', 'home'), ('Back', 'Back to previous …"
      ]
     },
     "metadata": {},
     "output_type": "display_data"
    },
    {
     "data": {
      "text/plain": [
       "<matplotlib.axes._subplots.AxesSubplot at 0x17ff1dd0>"
      ]
     },
     "execution_count": 147,
     "metadata": {},
     "output_type": "execute_result"
    }
   ],
   "source": [
    "from string import ascii_letters\n",
    "import numpy as np\n",
    "import pandas as pd\n",
    "import seaborn as sns\n",
    "import matplotlib.pyplot as plt\n",
    "rs = np.random.RandomState(33)\n",
    "d = Wafer[x][OES_col[:]].loc[Wafer[x]['StepID']==step]\n",
    "corr = d.corr()\n",
    "mask = np.triu(np.ones_like(corr, dtype=np.bool))\n",
    "f, ax = plt.subplots(figsize=(11, 9))\n",
    "cmap = sns.diverging_palette(220, 10, as_cmap=True)\n",
    "sns.heatmap(corr, mask=mask, cmap=cmap, vmax=.3, center=0,\n",
    "            square=True, linewidths=.5, cbar_kws={\"shrink\": .5})"
   ]
  },
  {
   "cell_type": "code",
   "execution_count": 148,
   "metadata": {},
   "outputs": [
    {
     "data": {
      "text/html": [
       "<div>\n",
       "<style scoped>\n",
       "    .dataframe tbody tr th:only-of-type {\n",
       "        vertical-align: middle;\n",
       "    }\n",
       "\n",
       "    .dataframe tbody tr th {\n",
       "        vertical-align: top;\n",
       "    }\n",
       "\n",
       "    .dataframe thead th {\n",
       "        text-align: right;\n",
       "    }\n",
       "</style>\n",
       "<table border=\"1\" class=\"dataframe\">\n",
       "  <thead>\n",
       "    <tr style=\"text-align: right;\">\n",
       "      <th></th>\n",
       "      <th>OES_CO483</th>\n",
       "      <th>OES_C516</th>\n",
       "      <th>OES_CN387</th>\n",
       "      <th>OES_Si251</th>\n",
       "      <th>OES_Si288</th>\n",
       "    </tr>\n",
       "  </thead>\n",
       "  <tbody>\n",
       "    <tr>\n",
       "      <td>OES_CO483</td>\n",
       "      <td>1.000000</td>\n",
       "      <td>0.167694</td>\n",
       "      <td>0.853307</td>\n",
       "      <td>0.917994</td>\n",
       "      <td>0.813568</td>\n",
       "    </tr>\n",
       "    <tr>\n",
       "      <td>OES_C516</td>\n",
       "      <td>0.167694</td>\n",
       "      <td>1.000000</td>\n",
       "      <td>-0.086855</td>\n",
       "      <td>-0.138526</td>\n",
       "      <td>0.346425</td>\n",
       "    </tr>\n",
       "    <tr>\n",
       "      <td>OES_CN387</td>\n",
       "      <td>0.853307</td>\n",
       "      <td>-0.086855</td>\n",
       "      <td>1.000000</td>\n",
       "      <td>0.945755</td>\n",
       "      <td>0.663284</td>\n",
       "    </tr>\n",
       "    <tr>\n",
       "      <td>OES_Si251</td>\n",
       "      <td>0.917994</td>\n",
       "      <td>-0.138526</td>\n",
       "      <td>0.945755</td>\n",
       "      <td>1.000000</td>\n",
       "      <td>0.644521</td>\n",
       "    </tr>\n",
       "    <tr>\n",
       "      <td>OES_Si288</td>\n",
       "      <td>0.813568</td>\n",
       "      <td>0.346425</td>\n",
       "      <td>0.663284</td>\n",
       "      <td>0.644521</td>\n",
       "      <td>1.000000</td>\n",
       "    </tr>\n",
       "  </tbody>\n",
       "</table>\n",
       "</div>"
      ],
      "text/plain": [
       "           OES_CO483  OES_C516  OES_CN387  OES_Si251  OES_Si288\n",
       "OES_CO483   1.000000  0.167694   0.853307   0.917994   0.813568\n",
       "OES_C516    0.167694  1.000000  -0.086855  -0.138526   0.346425\n",
       "OES_CN387   0.853307 -0.086855   1.000000   0.945755   0.663284\n",
       "OES_Si251   0.917994 -0.138526   0.945755   1.000000   0.644521\n",
       "OES_Si288   0.813568  0.346425   0.663284   0.644521   1.000000"
      ]
     },
     "execution_count": 148,
     "metadata": {},
     "output_type": "execute_result"
    }
   ],
   "source": [
    "corr"
   ]
  },
  {
   "cell_type": "code",
   "execution_count": null,
   "metadata": {},
   "outputs": [],
   "source": []
  },
  {
   "cell_type": "code",
   "execution_count": null,
   "metadata": {},
   "outputs": [],
   "source": []
  }
 ],
 "metadata": {
  "kernelspec": {
   "display_name": "Python 3",
   "language": "python",
   "name": "python3"
  },
  "language_info": {
   "codemirror_mode": {
    "name": "ipython",
    "version": 3
   },
   "file_extension": ".py",
   "mimetype": "text/x-python",
   "name": "python",
   "nbconvert_exporter": "python",
   "pygments_lexer": "ipython3",
   "version": "3.7.4"
  }
 },
 "nbformat": 4,
 "nbformat_minor": 4
}
